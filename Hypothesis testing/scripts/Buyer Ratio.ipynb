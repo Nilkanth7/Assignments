{
 "cells": [
  {
   "cell_type": "markdown",
   "id": "ee3c7efd",
   "metadata": {},
   "source": [
    "# Problem statement\n"
   ]
  },
  {
   "cell_type": "markdown",
   "id": "61c7b089",
   "metadata": {},
   "source": [
    "To find if male-female buyer ratio is simialr across all given regions"
   ]
  },
  {
   "cell_type": "code",
   "execution_count": 1,
   "id": "da54ff37",
   "metadata": {},
   "outputs": [],
   "source": [
    "import pandas as pd"
   ]
  },
  {
   "cell_type": "code",
   "execution_count": 2,
   "id": "1266f635",
   "metadata": {},
   "outputs": [],
   "source": [
    "data = pd.read_csv(\"C:\\\\Users\\\\nilka\\\\OneDrive\\\\Desktop\\\\excelr\\\\self paced course\\\\data science assignment\\\\1.assignments\\\\3.hypothesis testing\\\\BuyerRatio.csv\")"
   ]
  },
  {
   "cell_type": "code",
   "execution_count": 3,
   "id": "c8ca8053",
   "metadata": {},
   "outputs": [
    {
     "data": {
      "text/html": [
       "<div>\n",
       "<style scoped>\n",
       "    .dataframe tbody tr th:only-of-type {\n",
       "        vertical-align: middle;\n",
       "    }\n",
       "\n",
       "    .dataframe tbody tr th {\n",
       "        vertical-align: top;\n",
       "    }\n",
       "\n",
       "    .dataframe thead th {\n",
       "        text-align: right;\n",
       "    }\n",
       "</style>\n",
       "<table border=\"1\" class=\"dataframe\">\n",
       "  <thead>\n",
       "    <tr style=\"text-align: right;\">\n",
       "      <th></th>\n",
       "      <th>Observed Values</th>\n",
       "      <th>East</th>\n",
       "      <th>West</th>\n",
       "      <th>North</th>\n",
       "      <th>South</th>\n",
       "    </tr>\n",
       "  </thead>\n",
       "  <tbody>\n",
       "    <tr>\n",
       "      <th>0</th>\n",
       "      <td>Males</td>\n",
       "      <td>50</td>\n",
       "      <td>142</td>\n",
       "      <td>131</td>\n",
       "      <td>70</td>\n",
       "    </tr>\n",
       "    <tr>\n",
       "      <th>1</th>\n",
       "      <td>Females</td>\n",
       "      <td>435</td>\n",
       "      <td>1523</td>\n",
       "      <td>1356</td>\n",
       "      <td>750</td>\n",
       "    </tr>\n",
       "  </tbody>\n",
       "</table>\n",
       "</div>"
      ],
      "text/plain": [
       "  Observed Values  East  West  North  South\n",
       "0           Males    50   142    131     70\n",
       "1         Females   435  1523   1356    750"
      ]
     },
     "execution_count": 3,
     "metadata": {},
     "output_type": "execute_result"
    }
   ],
   "source": [
    "data"
   ]
  },
  {
   "cell_type": "markdown",
   "id": "979053a1",
   "metadata": {},
   "source": [
    "# Hypothesis statement"
   ]
  },
  {
   "cell_type": "markdown",
   "id": "3c01fe70",
   "metadata": {},
   "source": [
    "H0: the buyer ratio is similar across regions"
   ]
  },
  {
   "cell_type": "markdown",
   "id": "e797b647",
   "metadata": {},
   "source": [
    "H1: Buyer Ratio is different across regions"
   ]
  },
  {
   "cell_type": "markdown",
   "id": "4efa368c",
   "metadata": {},
   "source": [
    "# TEST"
   ]
  },
  {
   "cell_type": "markdown",
   "id": "34c70d3a",
   "metadata": {},
   "source": [
    "# CHI SQUARE TEST"
   ]
  },
  {
   "cell_type": "code",
   "execution_count": 5,
   "id": "f761035d",
   "metadata": {},
   "outputs": [],
   "source": [
    "from scipy import stats"
   ]
  },
  {
   "cell_type": "code",
   "execution_count": 10,
   "id": "0e75a451",
   "metadata": {},
   "outputs": [
    {
     "data": {
      "text/plain": [
       "(1.5959455386610577,\n",
       " 0.6603094907091882,\n",
       " 3,\n",
       " array([[  42.76531299,  442.23468701],\n",
       "        [ 146.81287862, 1518.18712138],\n",
       "        [ 131.11756787, 1355.88243213],\n",
       "        [  72.30424052,  747.69575948]]))"
      ]
     },
     "execution_count": 10,
     "metadata": {},
     "output_type": "execute_result"
    }
   ],
   "source": [
    "stats.chi2_contingency([data['East'],data['West'],data['North'],data['South']])"
   ]
  },
  {
   "cell_type": "markdown",
   "id": "a98a3132",
   "metadata": {},
   "source": [
    "P value = 0.66"
   ]
  },
  {
   "cell_type": "markdown",
   "id": "122e074e",
   "metadata": {},
   "source": [
    "As p > 0.05 we reject H0.  Thus there is difference in buyer ratio across regions"
   ]
  },
  {
   "cell_type": "code",
   "execution_count": null,
   "id": "adbf0299",
   "metadata": {},
   "outputs": [],
   "source": []
  }
 ],
 "metadata": {
  "kernelspec": {
   "display_name": "Python 3 (ipykernel)",
   "language": "python",
   "name": "python3"
  },
  "language_info": {
   "codemirror_mode": {
    "name": "ipython",
    "version": 3
   },
   "file_extension": ".py",
   "mimetype": "text/x-python",
   "name": "python",
   "nbconvert_exporter": "python",
   "pygments_lexer": "ipython3",
   "version": "3.9.7"
  }
 },
 "nbformat": 4,
 "nbformat_minor": 5
}
